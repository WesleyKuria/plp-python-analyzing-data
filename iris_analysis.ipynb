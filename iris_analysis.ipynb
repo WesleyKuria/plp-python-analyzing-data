#  Import Required Libraries
import pandas as pd
import numpy as np
import matplotlib.pyplot as plt
import seaborn as sns
from sklearn.datasets import load_iris

# Enable inline plotting for Jupyter notebooks
%matplotlib inline

# Loading the Iris dataset from sklearn
try:
    iris = load_iris()
    # Convert to a pandas DataFrame
    df = pd.DataFrame(data=iris.data, columns=iris.feature_names)
    df['species'] = pd.Categorical.from_codes(iris.target, iris.target_names)
    print(" Dataset loaded successfully.\n")
except Exception as e:
    print(f" Error loading dataset: {e}")

# Show the first few rows
df.head()

# Check data structure
print("\n Dataset Info:")
print(df.info())

# Check for missing values
print("\n Missing Values:")
print(df.isnull().sum())

# No missing values in Iris dataset. If any, we could fill or drop:
# df = df.dropna() or df.fillna(value)

# Example (for practice):
if df.isnull().values.any():
    df = df.dropna()
    print(" Missing values dropped.")
else:
    print(" No missing values detected.")


